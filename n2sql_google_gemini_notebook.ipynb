{
  "nbformat": 4,
  "nbformat_minor": 0,
  "metadata": {
    "colab": {
      "provenance": [],
      "collapsed_sections": [
        "J62Ed6jNukYW",
        "YKHL6-D5uoBT",
        "i6Nu9YMGupE_",
        "Hk9ttrymuqs3",
        "SW4mMVLhusW9",
        "CHgH7IzeuuIq",
        "ChHFW26RrnSv",
        "D_x7H1Zarp_c",
        "hqs9W479ryDx"
      ],
      "include_colab_link": true
    },
    "kernelspec": {
      "name": "python3",
      "display_name": "Python 3"
    },
    "language_info": {
      "name": "python"
    }
  },
  "cells": [
    {
      "cell_type": "markdown",
      "metadata": {
        "id": "view-in-github",
        "colab_type": "text"
      },
      "source": [
        "<a href=\"https://colab.research.google.com/github/melvinbaiju27/14proMaX/blob/main/n2sql_google_gemini_notebook.ipynb\" target=\"_parent\"><img src=\"https://colab.research.google.com/assets/colab-badge.svg\" alt=\"Open In Colab\"/></a>"
      ]
    },
    {
      "cell_type": "markdown",
      "source": [
        "## Natural Language to SQL using Google's Gemini Pro | Python | Google AI Studio\n",
        "\n",
        "[**Link to my YouTube Channel**](https://www.youtube.com/BhaveshBhatt8791?sub_confirmation=1)\n",
        "\n",
        "Click on the link below to open a Colab version of the notebook. You will be able to create your own version."
      ],
      "metadata": {
        "id": "g1va5YGucMBr"
      }
    },
    {
      "cell_type": "markdown",
      "source": [
        "<a href=\"https://colab.research.google.com/github/bhattbhavesh91/n2sql-google-gemini/blob/main/n2sql-google-gemini-notebook.ipynb\" target=\"_blank\"><img height=\"40\" alt=\"Run your own notebook in Colab\" src = \"https://colab.research.google.com/assets/colab-badge.svg\"></a>"
      ],
      "metadata": {
        "id": "ZpFI4r4VcRsN"
      }
    },
    {
      "cell_type": "markdown",
      "source": [
        "# Installation"
      ],
      "metadata": {
        "id": "J62Ed6jNukYW"
      }
    },
    {
      "cell_type": "code",
      "source": [
        "!pip install -q google-generativeai==0.3.1"
      ],
      "metadata": {
        "id": "CmIAwGt-ko5i",
        "colab": {
          "base_uri": "https://localhost:8080/"
        },
        "outputId": "d0abf4b8-b345-4239-c675-71134fc147af"
      },
      "execution_count": 1,
      "outputs": [
        {
          "output_type": "stream",
          "name": "stdout",
          "text": [
            "\u001b[?25l   \u001b[90m━━━━━━━━━━━━━━━━━━━━━━━━━━━━━━━━━━━━━━━━\u001b[0m \u001b[32m0.0/146.6 kB\u001b[0m \u001b[31m?\u001b[0m eta \u001b[36m-:--:--\u001b[0m\r\u001b[2K   \u001b[91m━━━━━━━━━━━━━━━━━━━━━━━━━\u001b[0m\u001b[90m╺\u001b[0m\u001b[90m━━━━━━━━━━━━━━\u001b[0m \u001b[32m92.2/146.6 kB\u001b[0m \u001b[31m3.7 MB/s\u001b[0m eta \u001b[36m0:00:01\u001b[0m\r\u001b[2K   \u001b[90m━━━━━━━━━━━━━━━━━━━━━━━━━━━━━━━━━━━━━━━━\u001b[0m \u001b[32m146.6/146.6 kB\u001b[0m \u001b[31m2.9 MB/s\u001b[0m eta \u001b[36m0:00:00\u001b[0m\n",
            "\u001b[?25h\u001b[?25l   \u001b[90m━━━━━━━━━━━━━━━━━━━━━━━━━━━━━━━━━━━━━━━━\u001b[0m \u001b[32m0.0/598.7 kB\u001b[0m \u001b[31m?\u001b[0m eta \u001b[36m-:--:--\u001b[0m\r\u001b[2K   \u001b[91m━━━━━━━━━━━━━━━━━━━━━━━━━━━━━━━━━━━━━━━\u001b[0m\u001b[91m╸\u001b[0m \u001b[32m593.9/598.7 kB\u001b[0m \u001b[31m28.3 MB/s\u001b[0m eta \u001b[36m0:00:01\u001b[0m\r\u001b[2K   \u001b[90m━━━━━━━━━━━━━━━━━━━━━━━━━━━━━━━━━━━━━━━━\u001b[0m \u001b[32m598.7/598.7 kB\u001b[0m \u001b[31m16.3 MB/s\u001b[0m eta \u001b[36m0:00:00\u001b[0m\n",
            "\u001b[?25h"
          ]
        }
      ]
    },
    {
      "cell_type": "markdown",
      "source": [
        "# Imports"
      ],
      "metadata": {
        "id": "YKHL6-D5uoBT"
      }
    },
    {
      "cell_type": "code",
      "source": [
        "import google.generativeai as genai\n",
        "from pathlib import Path\n",
        "import sqlite3"
      ],
      "metadata": {
        "id": "Ad7x23Khq65P"
      },
      "execution_count": 2,
      "outputs": []
    },
    {
      "cell_type": "markdown",
      "source": [
        "# Version"
      ],
      "metadata": {
        "id": "i6Nu9YMGupE_"
      }
    },
    {
      "cell_type": "code",
      "source": [
        "genai.__version__"
      ],
      "metadata": {
        "id": "HFVBV3vAqUQS",
        "colab": {
          "base_uri": "https://localhost:8080/",
          "height": 35
        },
        "outputId": "190f65d6-3d78-4706-fc64-6e5a6d7524e8"
      },
      "execution_count": 3,
      "outputs": [
        {
          "output_type": "execute_result",
          "data": {
            "text/plain": [
              "'0.3.1'"
            ],
            "application/vnd.google.colaboratory.intrinsic+json": {
              "type": "string"
            }
          },
          "metadata": {},
          "execution_count": 3
        }
      ]
    },
    {
      "cell_type": "markdown",
      "source": [
        "# Secret Key"
      ],
      "metadata": {
        "id": "Hk9ttrymuqs3"
      }
    },
    {
      "cell_type": "code",
      "source": [
        "from google.colab import userdata\n",
        "\n",
        "genai.configure(api_key = userdata.get('GEMINI_KEY'))"
      ],
      "metadata": {
        "id": "Hiho5AC_l-rl"
      },
      "execution_count": 5,
      "outputs": []
    },
    {
      "cell_type": "markdown",
      "source": [
        "# Configurations"
      ],
      "metadata": {
        "id": "SW4mMVLhusW9"
      }
    },
    {
      "cell_type": "code",
      "source": [
        "# Set up the model\n",
        "generation_config = {\n",
        "  \"temperature\": 0.4,\n",
        "  \"top_p\": 1,\n",
        "  \"top_k\": 32,\n",
        "  \"max_output_tokens\": 4096,\n",
        "}\n",
        "\n",
        "safety_settings = [\n",
        "  {\n",
        "    \"category\": \"HARM_CATEGORY_HARASSMENT\",\n",
        "    \"threshold\": \"BLOCK_MEDIUM_AND_ABOVE\"\n",
        "  },\n",
        "  {\n",
        "    \"category\": \"HARM_CATEGORY_HATE_SPEECH\",\n",
        "    \"threshold\": \"BLOCK_MEDIUM_AND_ABOVE\"\n",
        "  },\n",
        "  {\n",
        "    \"category\": \"HARM_CATEGORY_SEXUALLY_EXPLICIT\",\n",
        "    \"threshold\": \"BLOCK_MEDIUM_AND_ABOVE\"\n",
        "  },\n",
        "  {\n",
        "    \"category\": \"HARM_CATEGORY_DANGEROUS_CONTENT\",\n",
        "    \"threshold\": \"BLOCK_MEDIUM_AND_ABOVE\"\n",
        "  }\n",
        "]"
      ],
      "metadata": {
        "id": "ZJr0xFY0Yosd"
      },
      "execution_count": 6,
      "outputs": []
    },
    {
      "cell_type": "markdown",
      "source": [
        "# Model Instance"
      ],
      "metadata": {
        "id": "CHgH7IzeuuIq"
      }
    },
    {
      "cell_type": "code",
      "source": [
        "model = genai.GenerativeModel(model_name = \"gemini-pro\",\n",
        "                              generation_config = generation_config,\n",
        "                              safety_settings = safety_settings)"
      ],
      "metadata": {
        "id": "TcTI_tbDmQc-"
      },
      "execution_count": 7,
      "outputs": []
    },
    {
      "cell_type": "markdown",
      "source": [
        "# SQL Query Executor"
      ],
      "metadata": {
        "id": "ChHFW26RrnSv"
      }
    },
    {
      "cell_type": "code",
      "source": [
        "def read_sql_query(sql, db):\n",
        "    conn = sqlite3.connect(db)\n",
        "    cur = conn.cursor()\n",
        "    cur.execute(sql)\n",
        "    rows = cur.fetchall()\n",
        "    for row in rows:\n",
        "        print(row)\n",
        "    conn.close()"
      ],
      "metadata": {
        "id": "kkmqIjJw67fn"
      },
      "execution_count": 8,
      "outputs": []
    },
    {
      "cell_type": "code",
      "source": [
        "read_sql_query('SELECT * FROM fashion_products LIMIT 10;',\n",
        "               \"fashion_db.sqlite\")"
      ],
      "metadata": {
        "id": "Ll2MVzJj7BFM",
        "colab": {
          "base_uri": "https://localhost:8080/"
        },
        "outputId": "4bfa85b7-d44c-4cee-b468-d86c48655a4a"
      },
      "execution_count": 10,
      "outputs": [
        {
          "output_type": "stream",
          "name": "stdout",
          "text": [
            "(1, 'T-Shirt', 'Clothing', 19.99, 100)\n",
            "(2, 'Jeans', 'Clothing', 49.99, 50)\n",
            "(3, 'Sneakers', 'Footwear', 79.99, 30)\n",
            "(4, 'Jacket', 'Clothing', 99.99, 20)\n",
            "(5, 'Watch', 'Accessories', 199.99, 10)\n",
            "(6, 'Backpack', 'Accessories', 39.99, 40)\n",
            "(7, 'Sunglasses', 'Accessories', 29.99, 60)\n",
            "(8, 'Dress', 'Clothing', 59.99, 25)\n",
            "(9, 'Sandals', 'Footwear', 29.99, 35)\n",
            "(10, 'Hat', 'Accessories', 14.99, 70)\n"
          ]
        }
      ]
    },
    {
      "cell_type": "markdown",
      "source": [
        "# Define Prompt"
      ],
      "metadata": {
        "id": "D_x7H1Zarp_c"
      }
    },
    {
      "cell_type": "code",
      "source": [
        "prompt_parts_1 = [\n",
        "    \"\"\"You are an expert in converting English questions to SQL code! The SQL database has the name `fashion_products` and has the following columns:\n",
        "    - `id` (unique identifier for each product),\n",
        "    - `product_name` (name of the product),\n",
        "    - `category` (category of the product, e.g., Clothing, Footwear, Accessories),\n",
        "    - `price` (price of the product),\n",
        "    - `stock_quantity` (quantity of the product in stock).\n",
        "\n",
        "    For example:\n",
        "    Example 1 - How many products are in the Clothing category?\n",
        "    ```\n",
        "    SELECT COUNT(*) FROM fashion_products WHERE category = 'Clothing';\n",
        "    ```\n",
        "\n",
        "    Example 2 - What is the most expensive product?\n",
        "    ```\n",
        "    SELECT product_name FROM fashion_products WHERE price = (SELECT MAX(price) FROM fashion_products);\n",
        "    ```\n",
        "\n",
        "    Example 3 - List all products with a stock quantity less than 30.\n",
        "    ```\n",
        "    SELECT product_name FROM fashion_products WHERE stock_quantity < 30;\n",
        "    ```\n",
        "\n",
        "    Example 4 - What is the average price of products in the Footwear category?\n",
        "    ```\n",
        "    SELECT AVG(price) FROM fashion_products WHERE category = 'Footwear';\n",
        "    ```\n",
        "\n",
        "    Example 5 - How many products are priced above $50?\n",
        "    ```\n",
        "    SELECT COUNT(*) FROM fashion_products WHERE price > 50;\n",
        "    ```\n",
        "\n",
        "    **Rules:**\n",
        "    1. Always use the correct table name (`fashion_products`) and column names.\n",
        "    2. Only generate `SELECT` queries. Do not generate `INSERT`, `UPDATE`, `DELETE`, or `DROP` queries.\n",
        "    3. Do not include ``` or \\\\n in the output.\n",
        "    4. Ensure the SQL query is valid and optimized.\n",
        "\n",
        "    Now, generate the SQL query for the following question:\n",
        "    \"\"\"\n",
        "]"
      ],
      "metadata": {
        "id": "9HCW5Rem67k2"
      },
      "execution_count": 15,
      "outputs": []
    },
    {
      "cell_type": "code",
      "source": [
        "question = \"Tell me the id of the most expensive T-shirt?\""
      ],
      "metadata": {
        "id": "5EL8iH2m7HT5"
      },
      "execution_count": 16,
      "outputs": []
    },
    {
      "cell_type": "code",
      "source": [
        "prompt_parts = [prompt_parts_1[0], question]\n",
        "response = model.generate_content(prompt_parts)\n",
        "response.text"
      ],
      "metadata": {
        "id": "LjHWGGZo7HWl",
        "colab": {
          "base_uri": "https://localhost:8080/",
          "height": 35
        },
        "outputId": "78a2cb08-dd72-4822-cf90-c21e4ed02a31"
      },
      "execution_count": 17,
      "outputs": [
        {
          "output_type": "execute_result",
          "data": {
            "text/plain": [
              "\"```\\nSELECT id FROM fashion_products WHERE product_name LIKE '%T-Shirt%' AND price = (SELECT MAX(price) FROM fashion_products WHERE product_name LIKE '%T-Shirt%');\\n```\""
            ],
            "application/vnd.google.colaboratory.intrinsic+json": {
              "type": "string"
            }
          },
          "metadata": {},
          "execution_count": 17
        }
      ]
    },
    {
      "cell_type": "code",
      "source": [
        "read_sql_query(\"\"\"SELECT id FROM fashion_products WHERE product_name LIKE '%T-Shirt%' AND price = (SELECT MAX(price) FROM fashion_products WHERE product_name LIKE '%T-Shirt%');\n",
        "\"\"\",\n",
        "               \"fashion_db.sqlite\")"
      ],
      "metadata": {
        "id": "7Z3soRRD7inu",
        "colab": {
          "base_uri": "https://localhost:8080/"
        },
        "outputId": "c5791b21-2dc7-4b38-df88-c4a40e99bc87"
      },
      "execution_count": 19,
      "outputs": [
        {
          "output_type": "stream",
          "name": "stdout",
          "text": [
            "(1,)\n"
          ]
        }
      ]
    },
    {
      "cell_type": "markdown",
      "source": [
        "# Combine it into Function"
      ],
      "metadata": {
        "id": "hqs9W479ryDx"
      }
    },
    {
      "cell_type": "code",
      "source": [
        "import re\n",
        "import sqlite3\n",
        "from google.colab import userdata\n",
        "import google.generativeai as genai"
      ],
      "metadata": {
        "id": "QdajYwLV-EFa"
      },
      "execution_count": 30,
      "outputs": []
    },
    {
      "cell_type": "code",
      "source": [
        "# Function to clean SQL query\n",
        "def clean_sql_query(sql_query):\n",
        "    # Remove backticks, newlines, and leading/trailing whitespace\n",
        "    cleaned_query = re.sub(r'```sql|```|\\n', '', sql_query).strip()\n",
        "    return cleaned_query\n",
        "\n",
        "# Function to execute SQL query\n",
        "def read_sql_query(sql, db):\n",
        "    # Clean the SQL query\n",
        "    sql = clean_sql_query(sql)\n",
        "\n",
        "    # Connect to the SQLite database\n",
        "    conn = sqlite3.connect(db)\n",
        "    cur = conn.cursor()\n",
        "\n",
        "    try:\n",
        "        # Execute the query\n",
        "        cur.execute(sql)\n",
        "        rows = cur.fetchall()\n",
        "    except sqlite3.OperationalError as e:\n",
        "        return f\"Error executing SQL query: {e}\"\n",
        "    finally:\n",
        "        # Close the connection\n",
        "        conn.close()\n",
        "\n",
        "    return rows"
      ],
      "metadata": {
        "id": "a-BfOfJv9l1i"
      },
      "execution_count": 31,
      "outputs": []
    },
    {
      "cell_type": "code",
      "source": [
        "# Function to generate Gemini response\n",
        "def generate_gemini_response(question, input_prompt):\n",
        "    # Combine the prompt and question\n",
        "    prompt_parts = [input_prompt, question]\n",
        "\n",
        "    # Generate the SQL query using Gemini\n",
        "    response = model.generate_content(prompt_parts)\n",
        "\n",
        "    # Extract the generated SQL query\n",
        "    generated_sql = response.text\n",
        "\n",
        "    # Execute the SQL query and return the result\n",
        "    output = read_sql_query(generated_sql, \"fashion_db.sqlite\")\n",
        "    return output"
      ],
      "metadata": {
        "id": "HilHC9fx7x53"
      },
      "execution_count": 32,
      "outputs": []
    },
    {
      "cell_type": "code",
      "source": [
        "# Example prompt\n",
        "prompt_parts_1 = [\n",
        "    \"\"\"You are an expert in converting English questions to SQL code! The SQL database has the name `fashion_products` and has the following columns:\n",
        "    - `id` (unique identifier for each product),\n",
        "    - `product_name` (name of the product),\n",
        "    - `category` (category of the product, e.g., Clothing, Footwear, Accessories),\n",
        "    - `price` (price of the product),\n",
        "    - `stock_quantity` (quantity of the product in stock).\n",
        "\n",
        "    For example:\n",
        "    Example 1 - How many products are in the Clothing category?\n",
        "    SELECT COUNT(*) FROM fashion_products WHERE category = 'Clothing';\n",
        "\n",
        "    Example 2 - What is the most expensive product?\n",
        "    SELECT product_name FROM fashion_products WHERE price = (SELECT MAX(price) FROM fashion_products);\n",
        "\n",
        "    Example 3 - List all products with a stock quantity less than 30.\n",
        "    SELECT product_name FROM fashion_products WHERE stock_quantity < 30;\n",
        "\n",
        "    Example 4 - What is the average price of products in the Footwear category?\n",
        "    SELECT AVG(price) FROM fashion_products WHERE category = 'Footwear';\n",
        "\n",
        "    Example 5 - How many products are priced above $50?\n",
        "    SELECT COUNT(*) FROM fashion_products WHERE price > 50;\n",
        "\n",
        "    **Rules:**\n",
        "    1. Always use the correct table name (`fashion_products`) and column names.\n",
        "    2. Only generate `SELECT` queries. Do not generate `INSERT`, `UPDATE`, `DELETE`, or `DROP` queries.\n",
        "    3. Do not include ``` or \\\\n in the output.\n",
        "    4. Ensure the SQL query is valid and optimized.\n",
        "\n",
        "    Now, generate the SQL query for the following question:\n",
        "    \"\"\"\n",
        "]"
      ],
      "metadata": {
        "id": "6JhbqPA_93LD"
      },
      "execution_count": 33,
      "outputs": []
    },
    {
      "cell_type": "code",
      "source": [
        "# Example usage\n",
        "question = \"What is the most expensive product?\"\n",
        "output = generate_gemini_response(question, prompt_parts_1[0])\n",
        "print(\"Generated SQL Query Result:\", output)"
      ],
      "metadata": {
        "id": "RvIpKa3G8Hln",
        "colab": {
          "base_uri": "https://localhost:8080/",
          "height": 34
        },
        "outputId": "13d552aa-36b5-404e-88cf-306334dc3e56"
      },
      "execution_count": 34,
      "outputs": [
        {
          "output_type": "stream",
          "name": "stdout",
          "text": [
            "Generated SQL Query Result: [('Watch',)]\n"
          ]
        }
      ]
    },
    {
      "cell_type": "code",
      "source": [],
      "metadata": {
        "id": "9TRzDLNF8lyl"
      },
      "execution_count": null,
      "outputs": []
    },
    {
      "cell_type": "code",
      "source": [],
      "metadata": {
        "id": "khc_6v2G8l1b"
      },
      "execution_count": null,
      "outputs": []
    },
    {
      "cell_type": "code",
      "source": [],
      "metadata": {
        "id": "8pcZiMsx1tUM"
      },
      "execution_count": null,
      "outputs": []
    }
  ]
}